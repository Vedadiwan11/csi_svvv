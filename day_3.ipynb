{
  "nbformat": 4,
  "nbformat_minor": 0,
  "metadata": {
    "colab": {
      "provenance": []
    },
    "kernelspec": {
      "name": "python3",
      "display_name": "Python 3"
    },
    "language_info": {
      "name": "python"
    }
  },
  "cells": [
    {
      "cell_type": "code",
      "execution_count": 4,
      "metadata": {
        "colab": {
          "base_uri": "https://localhost:8080/"
        },
        "id": "Yr0YUS3rleNc",
        "outputId": "1acb7efc-101c-4ced-e01b-990d7495909f"
      },
      "outputs": [
        {
          "output_type": "stream",
          "name": "stdout",
          "text": [
            "Enter an integer: 123\n",
            "The number is odd\n",
            "If you want to continue (yes/no): yes\n",
            "Enter an integer: 1222\n",
            "The number is even\n",
            "If you want to continue (yes/no): no\n",
            "exiting the program...\n"
          ]
        }
      ],
      "source": [
        "def compute_even_odd(y):\n",
        "    if y%2==0:\n",
        "        return \"even\"\n",
        "    else:\n",
        "        return \"odd\"\n",
        "def exit_program():\n",
        "    print(\"exiting the program...\")\n",
        "\n",
        "while True:\n",
        "    y = int(input(\"Enter an integer: \"))\n",
        "\n",
        "    result = compute_even_odd(y)\n",
        "    print(\"The number is\", result)\n",
        "\n",
        "    choice = input(\"If you want to continue (yes/no): \").lower()\n",
        "    if choice != \"yes\":\n",
        "        exit_program()\n",
        "        break"
      ]
    },
    {
      "cell_type": "code",
      "source": [],
      "metadata": {
        "id": "w-ZyJTaOlhmw"
      },
      "execution_count": null,
      "outputs": []
    }
  ]
}